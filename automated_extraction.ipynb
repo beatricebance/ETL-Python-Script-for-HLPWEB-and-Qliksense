{
 "cells": [
  {
   "cell_type": "markdown",
   "metadata": {},
   "source": []
  },
  {
   "cell_type": "code",
   "execution_count": null,
   "metadata": {},
   "outputs": [],
   "source": [
    "import os\n",
    "import pandas as pd\n",
    "import Blobconfig\n",
    "\n",
    "# Access blob_service_client and container_client from Blobconfig\n",
    "blob_service_client = Blobconfig.blob_service_client\n",
    "container_client = Blobconfig.container_client\n",
    "\n",
    "csv_file_path = \"HLP_automated_extraction.csv\"\n",
    "\n",
    "zip_folder_path = os.path.join(os.path.dirname(csv_file_path), \"zip\")\n",
    "os.makedirs(zip_folder_path, exist_ok=True)\n",
    "\n",
    "existing_files = os.listdir(zip_folder_path)\n",
    "for file in existing_files:\n",
    "    file_path = os.path.join(zip_folder_path, file)\n",
    "    os.remove(file_path)\n",
    "\n",
    "%run Trigger_All_Full_Extract.py\n",
    "\n",
    "downloads_folder_path = os.path.join(os.path.expanduser(\"~\"), \"Downloads\")\n",
    "zip_files = [f for f in os.listdir(downloads_folder_path) if f.endswith(\".zip\")]\n",
    "\n",
    "for zip_file in zip_files:\n",
    "    zip_file_path = os.path.join(downloads_folder_path, zip_file)\n",
    "    new_zip_file_path = os.path.join(zip_folder_path, zip_file)\n",
    "\n",
    "    ten_minutes_ago = pd.Timestamp.now() - pd.Timedelta(minutes=10)\n",
    "    creation_time = pd.Timestamp.fromtimestamp(os.path.getctime(zip_file_path))\n",
    "\n",
    "    if creation_time > ten_minutes_ago:\n",
    "        os.rename(zip_file_path, new_zip_file_path)\n",
    "        print(f\"{zip_file_path} => {new_zip_file_path}\")\n",
    "\n",
    "print(\"Toutes les archives ZIP ont été déplacées vers le dossier 'zip' sur le bureau.\")\n",
    "print(f\"Creation Time is {creation_time}\\n\\n\\n\")\n",
    "\n",
    "%run \"Boe BI Automated Extraction Daily/Extract-Xlsx_From_Outlook_For_Power_Automate_Trigger_Blob.py\"\n",
    "%run Unzip_Move_Rename.py\n",
    "%run remove_date.py\n",
    "%run move_data.py\n",
    "%run Delete_zip.py\n"
   ]
  },
  {
   "cell_type": "markdown",
   "metadata": {},
   "source": []
  }
 ],
 "metadata": {
  "kernelspec": {
   "display_name": "Python 3",
   "language": "python",
   "name": "python3"
  },
  "language_info": {
   "codemirror_mode": {
    "name": "ipython",
    "version": 3
   },
   "file_extension": ".py",
   "mimetype": "text/x-python",
   "name": "python",
   "nbconvert_exporter": "python",
   "pygments_lexer": "ipython3",
   "version": "3.11.9"
  },
  "orig_nbformat": 4
 },
 "nbformat": 4,
 "nbformat_minor": 2
}
